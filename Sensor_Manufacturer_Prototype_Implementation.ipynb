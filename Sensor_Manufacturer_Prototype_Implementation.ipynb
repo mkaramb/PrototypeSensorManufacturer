{
  "nbformat": 4,
  "nbformat_minor": 0,
  "metadata": {
    "colab": {
      "provenance": []
    },
    "kernelspec": {
      "name": "python3",
      "display_name": "Python 3"
    },
    "language_info": {
      "name": "python"
    }
  },
  "cells": [
    {
      "cell_type": "markdown",
      "source": [
        "# Sensor Logic and Server Logic and Communication\n",
        "\n",
        "This includes intake and encrypting of the data by the sensor. It also shows the logic of our server and the communication between the sensors and our server throughout the course of a day. And an example output of what the server will send to BU at the end of the day."
      ],
      "metadata": {
        "id": "aq59eWrsAjOx"
      }
    },
    {
      "cell_type": "code",
      "source": [
        "!pip install phe"
      ],
      "metadata": {
        "id": "_X9eW_Vg76jH",
        "colab": {
          "base_uri": "https://localhost:8080/"
        },
        "outputId": "d3c98c6e-580c-43fd-e516-f0b6e35be0d6"
      },
      "execution_count": null,
      "outputs": [
        {
          "output_type": "stream",
          "name": "stdout",
          "text": [
            "Looking in indexes: https://pypi.org/simple, https://us-python.pkg.dev/colab-wheels/public/simple/\n",
            "Collecting phe\n",
            "  Downloading phe-1.5.0-py2.py3-none-any.whl (53 kB)\n",
            "\u001b[2K     \u001b[90m━━━━━━━━━━━━━━━━━━━━━━━━━━━━━━━━━━━━━━━━\u001b[0m \u001b[32m53.7/53.7 kB\u001b[0m \u001b[31m1.2 MB/s\u001b[0m eta \u001b[36m0:00:00\u001b[0m\n",
            "\u001b[?25hInstalling collected packages: phe\n",
            "Successfully installed phe-1.5.0\n"
          ]
        }
      ]
    },
    {
      "cell_type": "code",
      "source": [
        "import hashlib\n",
        "import random\n",
        "from typing import List\n",
        "import pandas as pd\n",
        "from phe import paillier\n",
        "import time"
      ],
      "metadata": {
        "id": "tIUTTEQS7qLM"
      },
      "execution_count": null,
      "outputs": []
    },
    {
      "cell_type": "code",
      "source": [
        "# this is the sample data the sensors will record every minute\n",
        "s1 = [random.randint(1,51) for x in range(1, 3600)]\n",
        "s2 = [random.randint(1,51) for x in range(1, 3600)]\n",
        "s3 = [random.randint(1,51) for x in range(1, 3600)]\n",
        "\n",
        "# we will have a public and secret key pair generated\n",
        "# generate pk and sk here\n",
        "\n",
        "pk1, sk1 = paillier.generate_paillier_keypair()\n",
        "pk2, sk2 = paillier.generate_paillier_keypair()\n",
        "pk3, sk3 = paillier.generate_paillier_keypair()\n",
        "\n",
        "# map the keys to each sensor\n",
        "sensorList = [pk1, pk2, pk3]"
      ],
      "metadata": {
        "id": "owS_wDxfolJj"
      },
      "execution_count": null,
      "outputs": []
    },
    {
      "cell_type": "code",
      "source": [
        "# Sensor Logic\n",
        "\n",
        "class Sensor:\n",
        "    def __init__(self, pubKey): # takes the sensors public key as an argument and initializes the sum for a sensor\n",
        "        self.pubKey = pubKey\n",
        "        self.vals = []\n",
        "        self.sum = 0\n",
        "\n",
        "    def collectData(self, value): # every minute this method is called to make a list of sensor values over the course of an hour\n",
        "        self.vals.append(value)\n",
        "\n",
        "    def sumData(self): # this is the hourly sum for the sensor\n",
        "        self.sum = sum(self.vals)\n",
        "        return self.sum\n",
        "\n",
        "    def hashData(self): # this method performs homomorphic encryption on the hourly sensor data\n",
        "        encrypted_sum = self.pubKey.encrypt(self.sum)\n",
        "        return encrypted_sum\n",
        "\n",
        "    def send(self, encrypted_sum): # sends the encrypted hourly data to our server\n",
        "        return encrypted_sum"
      ],
      "metadata": {
        "id": "ZGcZ6S74xkHP"
      },
      "execution_count": null,
      "outputs": []
    },
    {
      "cell_type": "code",
      "source": [
        "class Server1:\n",
        "    def __init__(self, initialData): # this method initialized the daily sums of each sensor in the first hour of the day\n",
        "        self.sum1 = initialData[0]\n",
        "        self.sum2 = initialData[1]\n",
        "        self.sum3 = initialData[2]\n",
        "    \n",
        "    def sumData(self, encryptedData): # for every hour after the first hour this method keeps a running sum for each sensor\n",
        "        self.sum1 += encryptedData[0]\n",
        "        self.sum2 += encryptedData[1]\n",
        "        self.sum3 += encryptedData[2]\n",
        "\n",
        "    def send(self):\n",
        "        return [self.sum1, self.sum2, self.sum3] # at the end of the day it can output the daily sums to BU in a manageable list"
      ],
      "metadata": {
        "id": "b41o6ufXk2t0"
      },
      "execution_count": null,
      "outputs": []
    },
    {
      "cell_type": "code",
      "source": [
        "# CODE TO SHOW HOW THE SENSORS WOULD PROCESS AND ENCRYPT THEIR HOURLY DATA AND HOW THE SERVER WOULD PROCESS AND SEND IT OUT THROUGH THE DAY\n",
        "\n",
        "for hour in range(24):\n",
        "    sensor1 = Sensor(pk1)\n",
        "    sensor2 = Sensor(pk2)\n",
        "    sensor3 = Sensor(pk3)\n",
        "    for minute in range(60):\n",
        "      sensor1.collectData(s1[(minute + (hour * 60))])\n",
        "      sensor2.collectData(s2[(minute + (hour * 60))])\n",
        "      sensor3.collectData(s3[(minute + (hour * 60))])\n",
        "\n",
        "      time.sleep(60)  # sleep for 60 seconds (1 minute)\n",
        "\n",
        "    # each sensor sums up their hourly data\n",
        "    sensor1.sumData()\n",
        "    sensor2.sumData()\n",
        "    sensor3.sumData()\n",
        "\n",
        "    # each sensor encrypts their hourly data\n",
        "    encryptedSum1 = sensor1.hashData()\n",
        "    encryptedSum2 = sensor2.hashData()\n",
        "    encryptedSum3 = sensor3.hashData()\n",
        "\n",
        "    # each sensor sends their hourly encrypted sum out for the server to take\n",
        "    sentSum1 = sensor1.send(encryptedSum1)\n",
        "    sentSum2 = sensor2.send(encryptedSum2)\n",
        "    sentSum3 = sensor3.send(encryptedSum3)\n",
        "\n",
        "    # server takes in hourly data\n",
        "    if hour == 0: # initialize for the first hour\n",
        "      server = Server1([sentSum1, sentSum2, sentSum3])\n",
        "    else: # keep running sum for rest of the hours in the day\n",
        "      server.sumData([sentSum1, sentSum2, sentSum3])\n",
        "      \n",
        "\n",
        "# at the end of 24 hours output the three encrypted sums to BU \n",
        "result = server.send()\n",
        "print(result)"
      ],
      "metadata": {
        "id": "ezm9WvXoxmlJ",
        "colab": {
          "base_uri": "https://localhost:8080/"
        },
        "outputId": "60a3066f-cabb-48f8-9b44-a1c519f3bd27"
      },
      "execution_count": null,
      "outputs": [
        {
          "output_type": "stream",
          "name": "stdout",
          "text": [
            "[<phe.paillier.EncryptedNumber object at 0x7ff2a40e8100>, <phe.paillier.EncryptedNumber object at 0x7ff2ce311270>, <phe.paillier.EncryptedNumber object at 0x7ff2a3f63fa0>]\n"
          ]
        }
      ]
    },
    {
      "cell_type": "code",
      "source": [
        "# test code\n",
        "# shows that the loop above takes the daily sum of each sensor correctly\n",
        "# the sum of the first 1440 values is the number of minutes in a day \n",
        "\n",
        "decrypted1 = sk1.decrypt(result[0])\n",
        "decrypted2 = sk2.decrypt(result[1])\n",
        "decrypted3 = sk3.decrypt(result[2])\n",
        "\n",
        "sum1_of_first_1440 = sum(s1[:1440])\n",
        "sum2_of_first_1440 = sum(s2[:1440])\n",
        "sum3_of_first_1440 = sum(s3[:1440])\n",
        "\n",
        "print(\"Sensor 1 decrypted value:\", decrypted1)\n",
        "print(\"Sensor 1 sum for randomly generated list:\", sum1_of_first_1440)\n",
        "print(\"Sensor 2 decrypted value:\", decrypted2)\n",
        "print(\"Sensor 2 sum for randomly generated list:\", sum2_of_first_1440)\n",
        "print(\"Sensor 3 decrypted value:\", decrypted3)\n",
        "print(\"Sensor 3 sum for randomly generated list:\", sum3_of_first_1440)"
      ],
      "metadata": {
        "colab": {
          "base_uri": "https://localhost:8080/"
        },
        "id": "n5ECW8fFzVQ6",
        "outputId": "fc77b2d5-c3ee-4dcb-f6e5-9f9e53dbb307"
      },
      "execution_count": null,
      "outputs": [
        {
          "output_type": "stream",
          "name": "stdout",
          "text": [
            "Sensor 1 decrypted value: 37360\n",
            "Sensor 1 sum for randomly generated list: 37360\n",
            "Sensor 2 decrypted value: 38009\n",
            "Sensor 2 sum for randomly generated list: 38009\n",
            "Sensor 3 decrypted value: 37100\n",
            "Sensor 3 sum for randomly generated list: 37100\n"
          ]
        }
      ]
    },
    {
      "cell_type": "markdown",
      "source": [
        "# Zero Knowledge Proof\n",
        "\n",
        "This is how BU can share the public key of a sensor with a third party to prove that the daily sum collected from the sensor is indeed accurate."
      ],
      "metadata": {
        "id": "1Xx-jKszCdEQ"
      }
    },
    {
      "cell_type": "code",
      "source": [
        "# BU's Code: private script that allows for validity checking using a homomorphic ZKP\n",
        "#\n",
        "def provide_verification():\n",
        "    output = []\n",
        "\n",
        "    # provide a verification check for each type of sensor\n",
        "    for sensor in range(len(result)):\n",
        "        daily_ciphertext = result[sensor]\n",
        "        pubkey = sensorList[sensor]\n",
        "        max_int = sensorList[sensor].max_int\n",
        "\n",
        "        # creating and encrypting randint r within specified range\n",
        "        r = random.randint(int(\"1\"+(\"0\"*(len(str(max_int))-2))), max_int)\n",
        "        encrypted_r = pubkey.encrypt(r)\n",
        "\n",
        "        # using homomorphic encryption to add encrypted values\n",
        "        cipher_sum = encrypted_r._add_encrypted(daily_ciphertext)\n",
        "\n",
        "        # BU sends non-obfuscated ciphertext of cipher_sum, which is already obfuscated\n",
        "        output.append([cipher_sum.ciphertext(be_secure=False), daily_ciphertext, encrypted_r])\n",
        "\n",
        "    return(output)"
      ],
      "metadata": {
        "id": "FAiMaBbFCfzO"
      },
      "execution_count": null,
      "outputs": []
    },
    {
      "cell_type": "code",
      "source": [
        "# Verifier's Code: publicly available for third-party use\n",
        "#\n",
        "def verify():\n",
        "    for msg in provide_verification():\n",
        "        # messages in format: [cipher_sum, daily_ciphertext, encrytped_r]\n",
        "        verifier_encryption = msg[2]._add_encrypted(msg[1]).ciphertext(be_secure=False)\n",
        "\n",
        "        # final verification: compare user-generated ciphertext with BU's\n",
        "        assert verifier_encryption == msg[0], \"Invalid Checksum\"\n",
        "    \n",
        "    return True\n",
        "\n",
        "verify()"
      ],
      "metadata": {
        "colab": {
          "base_uri": "https://localhost:8080/"
        },
        "id": "T2x1hEkKGb70",
        "outputId": "88db9e28-cd26-4762-87a5-9d8a619e7d21"
      },
      "execution_count": null,
      "outputs": [
        {
          "output_type": "execute_result",
          "data": {
            "text/plain": [
              "True"
            ]
          },
          "metadata": {},
          "execution_count": 20
        }
      ]
    }
  ]
}